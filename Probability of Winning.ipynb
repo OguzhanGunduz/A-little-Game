{
 "cells": [
  {
   "cell_type": "markdown",
   "id": "e8e2680a",
   "metadata": {},
   "source": [
    "##  <font color='red'>This is my little number prediction game. </font>\n",
    "\n",
    ">The game take a number from user (which named istenilen) and the game generates numbers between 0 and (istenilen-1) istenilen times, that numbers are added to a list. The length of the generated list is istenilen. As we can see every generated number probabilitys are same and also we can see there can be same gerated number in the generated list. So I want to see single the genereted numbers. So if the new generated number is in the generated number list (which named numberlist) then the game does not add the new number to the generated number list. After all of that the game have a number list and you should ask \"my number is in side the game's list?\"\n",
    "\n",
    ">if your number is in side then the game show \"Your number is in side, You won\",  if not \"Your number is not inside\"."
   ]
  },
  {
   "cell_type": "markdown",
   "id": "01c75f8a",
   "metadata": {},
   "source": [
    "### This part the game generates numbers between 0 and (istenilen-1) istenilen times"
   ]
  },
  {
   "cell_type": "code",
   "execution_count": null,
   "id": "73ba9816",
   "metadata": {},
   "outputs": [],
   "source": [
    "def addFunction(istenilen,giris):\n",
    "    import random\n",
    "    numberlist = []  \n",
    "    for i in range(0,istenilen): #istenilen times generate number\n",
    "        number = random.randint(0,istenilen-1) #generate number\n",
    "\n",
    "# if the new generated number is in the generated number list then inornot will be True so \"if inornot == False:\" will not work\n",
    "        inornot = number in numberlist                                 \n",
    "           \n",
    "#if the new generated number is not in the generated number list then inornot will be False so numberlist.append(number) will work        \n",
    "        if inornot == False: \n",
    "            numberlist.append(number)\n",
    "\n",
    "# This part, the game checks number of user guess (which named giris)\n",
    "# If giris is in numberlist inornot2 will be True and if statement work and user sees \"Your number is in side, You won\"\n",
    "    inornot2 = giris in numberlist\n",
    "    if inornot2 == True:\n",
    "        print(\"Your number is in side, You won\")\n",
    "    else:\n",
    "        print(\"Your number is not inside\")\n",
    "    print(numberlist)"
   ]
  },
  {
   "cell_type": "markdown",
   "id": "be1e0df6",
   "metadata": {},
   "source": [
    "## This part the game takes some numbers from user and checks taken numbers correct."
   ]
  },
  {
   "cell_type": "code",
   "execution_count": null,
   "id": "f9656fb6",
   "metadata": {},
   "outputs": [],
   "source": [
    "def Input():\n",
    "    \n",
    "    # Take some numbers from user (which named istenilen, giris) \n",
    "    # if there will be any error from input, the game shows \"Your input is false, try new input\"\n",
    "    # it keeps working until it gets the correct input \n",
    "    while True:\n",
    "        try:\n",
    "            istenilen = int(input(\"Kaç sayılık bir küme istersiniz: \"))\n",
    "        except:\n",
    "            print(\"Your input is false, try new input\")\n",
    "            continue\n",
    "        else:\n",
    "            break\n",
    "    \n",
    "    while True:      \n",
    "        try:\n",
    "            giris = int(input(f\"What number do you want to guess (Pleace please write a Natural number less than {istenilen}: \"))\n",
    "        except ValueError:\n",
    "            print(\"Your input is false, please try a number with integers.\")   \n",
    "        else:    \n",
    "            break\n",
    "    \n",
    "    # the game gives correct taken numbers to addFunction()\n",
    "    addFunction(istenilen,giris)\n",
    "\n",
    "# the game starter\n",
    "Input()  \n",
    "\n",
    "# This is probability to win, but this part will be after.    \n",
    "#     probability = 1-((istenilen-1)**istenilen)/(istenilen**istenilen)\n",
    "#     print(f\"Now you wining probability is {probability}\")\n"
   ]
  },
  {
   "cell_type": "code",
   "execution_count": null,
   "id": "05a6adf4",
   "metadata": {},
   "outputs": [],
   "source": []
  },
  {
   "cell_type": "markdown",
   "id": "5922074d",
   "metadata": {},
   "source": [
    "## In this point I wondered, What is the win probability in this game? ,\n",
    ">We can find to answer from use some theory but I want to find practically so we need simulation but \n",
    "\n",
    "### What is simulation?\n",
    ">Let's understand together"
   ]
  },
  {
   "cell_type": "markdown",
   "id": "5c0ee8d1",
   "metadata": {},
   "source": [
    "#### Some people said us \"The probability of getting heads or tails is 50%.\"\n",
    "\n",
    ">but Are we cristal clear? actually I am not. so what we need to sure? , we need a simulation.\n",
    "\n",
    ">Now we will fair toss a coin 100 times and we will expect to see the probability of heads is %50.\n"
   ]
  },
  {
   "cell_type": "code",
   "execution_count": 17,
   "id": "6ac4b763",
   "metadata": {},
   "outputs": [],
   "source": []
  },
  {
   "cell_type": "code",
   "execution_count": 53,
   "id": "acf2f21b",
   "metadata": {},
   "outputs": [],
   "source": [
    "import random #addd random modul to code\n",
    "def tossCoin(ntimes):\n",
    "    # let tails = 1  and heads = 0 \n",
    "    tossList = [] #create empty list  \n",
    "    \n",
    "    # ntimes means how many times we want\n",
    "    \n",
    "    for i in range(0,ntimes): #ntimes generate number\n",
    "        toss = random.randint(0,1) #0 or 1 can be generate\n",
    "        tossList.append(toss)   #the generated numbers are adding the empty list\n",
    "    \n",
    "    #How many have 1 in tossList\n",
    "    tails= tossList.count(1)  \n",
    "    #this part gives us final probability\n",
    "    probability=tails/ntimes\n",
    "    print(probability)"
   ]
  },
  {
   "cell_type": "code",
   "execution_count": 54,
   "id": "ba6df88a",
   "metadata": {},
   "outputs": [
    {
     "name": "stdout",
     "output_type": "stream",
     "text": [
      "0.53\n"
     ]
    }
   ],
   "source": [
    "tossCoin(100)"
   ]
  },
  {
   "cell_type": "markdown",
   "id": "c4a9629d",
   "metadata": {},
   "source": [
    "### As we can see  the probability almost equal to 0.5 , some times we see 0.44 or 0.54 if we increase ntimes we will be very colse to 0.5\n",
    ">Let ntimes be equal to 1000"
   ]
  },
  {
   "cell_type": "code",
   "execution_count": 56,
   "id": "94313d2a",
   "metadata": {},
   "outputs": [
    {
     "name": "stdout",
     "output_type": "stream",
     "text": [
      "0.504\n"
     ]
    }
   ],
   "source": [
    "tossCoin(1000)  #So Now we are too close to 0.5"
   ]
  },
  {
   "cell_type": "markdown",
   "id": "7efc3c42",
   "metadata": {},
   "source": [
    "## Now we want to see probability graph\n",
    "\n",
    ">We want different moduls "
   ]
  },
  {
   "cell_type": "code",
   "execution_count": 58,
   "id": "3bd826ed",
   "metadata": {},
   "outputs": [],
   "source": [
    "# import modules which we need\n",
    "# for manipulating numbers\n",
    "import numpy as np\n",
    "import pandas as pd\n",
    "# for data graph\n",
    "import matplotlib.pyplot as plt\n",
    "import seaborn as sbn"
   ]
  },
  {
   "cell_type": "code",
   "execution_count": 68,
   "id": "9dc0be7a",
   "metadata": {},
   "outputs": [],
   "source": [
    "import random\n",
    "def tossCoinData(ntimes):\n",
    "    # let tails = 1  and heads = 0 \n",
    "    tossList = []\n",
    "    countList = [] #We will that use to make a graph \n",
    "    for i in range(0,ntimes):\n",
    "        toss = random.randint(0,1)\n",
    "        tossList.append(toss)\n",
    "        \n",
    "        countList.append(i+1) # this make this [1,2,3,...,ntimes-1,ntimes]\n",
    "    \n",
    "    tails= tossList.count(1)  \n",
    "    probability=tails/ntimes\n",
    "    print(probability)\n",
    "    \n",
    "    #crate DataFrame by usig tossList and column name is Coin Toss\n",
    "    tossData = pd.DataFrame(tossList,columns=[\"Coin Toss\"])\n",
    "    #create empty probabiliy list\n",
    "    probabilityList = []\n",
    "    count = 0\n",
    "    for i in range(0,ntimes):   \n",
    "        if tossData[\"Coin Toss\"][i] == 1:\n",
    "            count = count + 1\n",
    "        probability= count/countList[i]\n",
    "        probabilityList.append(probability)\n",
    "    \n",
    "    data = list(zip(tossList,countList,probabilityList))\n",
    "    tossData = pd.DataFrame(data, columns = [\"Coin Toss\",\"Count\",\"Probability\"])\n",
    "    \n",
    "    return tossData"
   ]
  },
  {
   "cell_type": "code",
   "execution_count": 73,
   "id": "495afcad",
   "metadata": {},
   "outputs": [
    {
     "name": "stdout",
     "output_type": "stream",
     "text": [
      "0.506\n"
     ]
    },
    {
     "data": {
      "text/html": [
       "<div>\n",
       "<style scoped>\n",
       "    .dataframe tbody tr th:only-of-type {\n",
       "        vertical-align: middle;\n",
       "    }\n",
       "\n",
       "    .dataframe tbody tr th {\n",
       "        vertical-align: top;\n",
       "    }\n",
       "\n",
       "    .dataframe thead th {\n",
       "        text-align: right;\n",
       "    }\n",
       "</style>\n",
       "<table border=\"1\" class=\"dataframe\">\n",
       "  <thead>\n",
       "    <tr style=\"text-align: right;\">\n",
       "      <th></th>\n",
       "      <th>Coin Toss</th>\n",
       "      <th>Count</th>\n",
       "      <th>Probability</th>\n",
       "    </tr>\n",
       "  </thead>\n",
       "  <tbody>\n",
       "    <tr>\n",
       "      <th>0</th>\n",
       "      <td>0</td>\n",
       "      <td>1</td>\n",
       "      <td>0.000000</td>\n",
       "    </tr>\n",
       "    <tr>\n",
       "      <th>1</th>\n",
       "      <td>0</td>\n",
       "      <td>2</td>\n",
       "      <td>0.000000</td>\n",
       "    </tr>\n",
       "    <tr>\n",
       "      <th>2</th>\n",
       "      <td>1</td>\n",
       "      <td>3</td>\n",
       "      <td>0.333333</td>\n",
       "    </tr>\n",
       "    <tr>\n",
       "      <th>3</th>\n",
       "      <td>1</td>\n",
       "      <td>4</td>\n",
       "      <td>0.500000</td>\n",
       "    </tr>\n",
       "    <tr>\n",
       "      <th>4</th>\n",
       "      <td>0</td>\n",
       "      <td>5</td>\n",
       "      <td>0.400000</td>\n",
       "    </tr>\n",
       "    <tr>\n",
       "      <th>...</th>\n",
       "      <td>...</td>\n",
       "      <td>...</td>\n",
       "      <td>...</td>\n",
       "    </tr>\n",
       "    <tr>\n",
       "      <th>995</th>\n",
       "      <td>0</td>\n",
       "      <td>996</td>\n",
       "      <td>0.504016</td>\n",
       "    </tr>\n",
       "    <tr>\n",
       "      <th>996</th>\n",
       "      <td>1</td>\n",
       "      <td>997</td>\n",
       "      <td>0.504514</td>\n",
       "    </tr>\n",
       "    <tr>\n",
       "      <th>997</th>\n",
       "      <td>1</td>\n",
       "      <td>998</td>\n",
       "      <td>0.505010</td>\n",
       "    </tr>\n",
       "    <tr>\n",
       "      <th>998</th>\n",
       "      <td>1</td>\n",
       "      <td>999</td>\n",
       "      <td>0.505506</td>\n",
       "    </tr>\n",
       "    <tr>\n",
       "      <th>999</th>\n",
       "      <td>1</td>\n",
       "      <td>1000</td>\n",
       "      <td>0.506000</td>\n",
       "    </tr>\n",
       "  </tbody>\n",
       "</table>\n",
       "<p>1000 rows × 3 columns</p>\n",
       "</div>"
      ],
      "text/plain": [
       "     Coin Toss  Count  Probability\n",
       "0            0      1     0.000000\n",
       "1            0      2     0.000000\n",
       "2            1      3     0.333333\n",
       "3            1      4     0.500000\n",
       "4            0      5     0.400000\n",
       "..         ...    ...          ...\n",
       "995          0    996     0.504016\n",
       "996          1    997     0.504514\n",
       "997          1    998     0.505010\n",
       "998          1    999     0.505506\n",
       "999          1   1000     0.506000\n",
       "\n",
       "[1000 rows x 3 columns]"
      ]
     },
     "execution_count": 73,
     "metadata": {},
     "output_type": "execute_result"
    }
   ],
   "source": [
    "a=tossCoinData(1000) \n",
    "a"
   ]
  },
  {
   "cell_type": "code",
   "execution_count": 74,
   "id": "fbcc904b",
   "metadata": {
    "scrolled": true
   },
   "outputs": [
    {
     "data": {
      "text/html": [
       "<div>\n",
       "<style scoped>\n",
       "    .dataframe tbody tr th:only-of-type {\n",
       "        vertical-align: middle;\n",
       "    }\n",
       "\n",
       "    .dataframe tbody tr th {\n",
       "        vertical-align: top;\n",
       "    }\n",
       "\n",
       "    .dataframe thead th {\n",
       "        text-align: right;\n",
       "    }\n",
       "</style>\n",
       "<table border=\"1\" class=\"dataframe\">\n",
       "  <thead>\n",
       "    <tr style=\"text-align: right;\">\n",
       "      <th></th>\n",
       "      <th>Coin Toss</th>\n",
       "      <th>Count</th>\n",
       "      <th>Probability</th>\n",
       "    </tr>\n",
       "  </thead>\n",
       "  <tbody>\n",
       "    <tr>\n",
       "      <th>0</th>\n",
       "      <td>0</td>\n",
       "      <td>1</td>\n",
       "      <td>0.000000</td>\n",
       "    </tr>\n",
       "    <tr>\n",
       "      <th>1</th>\n",
       "      <td>0</td>\n",
       "      <td>2</td>\n",
       "      <td>0.000000</td>\n",
       "    </tr>\n",
       "    <tr>\n",
       "      <th>2</th>\n",
       "      <td>1</td>\n",
       "      <td>3</td>\n",
       "      <td>0.333333</td>\n",
       "    </tr>\n",
       "    <tr>\n",
       "      <th>3</th>\n",
       "      <td>1</td>\n",
       "      <td>4</td>\n",
       "      <td>0.500000</td>\n",
       "    </tr>\n",
       "    <tr>\n",
       "      <th>4</th>\n",
       "      <td>0</td>\n",
       "      <td>5</td>\n",
       "      <td>0.400000</td>\n",
       "    </tr>\n",
       "  </tbody>\n",
       "</table>\n",
       "</div>"
      ],
      "text/plain": [
       "   Coin Toss  Count  Probability\n",
       "0          0      1     0.000000\n",
       "1          0      2     0.000000\n",
       "2          1      3     0.333333\n",
       "3          1      4     0.500000\n",
       "4          0      5     0.400000"
      ]
     },
     "execution_count": 74,
     "metadata": {},
     "output_type": "execute_result"
    }
   ],
   "source": [
    "a.head() # it shows first 5"
   ]
  },
  {
   "cell_type": "code",
   "execution_count": 75,
   "id": "b4591774",
   "metadata": {
    "scrolled": true
   },
   "outputs": [
    {
     "data": {
      "text/plain": [
       "<AxesSubplot:xlabel='Count', ylabel='Probability'>"
      ]
     },
     "execution_count": 75,
     "metadata": {},
     "output_type": "execute_result"
    },
    {
     "data": {
      "image/png": "[encoded data removed]",
      "text/plain": [
       "<Figure size 432x288 with 1 Axes>"
      ]
     },
     "metadata": {
      "needs_background": "light"
     },
     "output_type": "display_data"
    }
   ],
   "source": [
    "sbn.scatterplot(x=\"Count\",y=\"Probability\",data=a) #as we can see, the probability very close teoric probabiliry so simulation's work."
   ]
  },
  {
   "cell_type": "markdown",
   "id": "520abc1b",
   "metadata": {},
   "source": [
    "## Now we learned simulation is working, Let's deploy this simulation the game"
   ]
  },
  {
   "cell_type": "markdown",
   "id": "2e3d3d48",
   "metadata": {},
   "source": [
    "### For this part, we don't take numbers from user because we want to more dinamik our code. We give."
   ]
  },
  {
   "cell_type": "code",
   "execution_count": 76,
   "id": "e95106ec",
   "metadata": {},
   "outputs": [],
   "source": [
    "# import modules which we need\n",
    "# for manipulating numbers\n",
    "import numpy as np\n",
    "import pandas as pd\n",
    "# for data graph\n",
    "import matplotlib.pyplot as plt\n",
    "import seaborn as sbn"
   ]
  },
  {
   "cell_type": "code",
   "execution_count": 111,
   "id": "6f06173a",
   "metadata": {},
   "outputs": [
    {
     "data": {
      "text/html": [
       "<div>\n",
       "<style scoped>\n",
       "    .dataframe tbody tr th:only-of-type {\n",
       "        vertical-align: middle;\n",
       "    }\n",
       "\n",
       "    .dataframe tbody tr th {\n",
       "        vertical-align: top;\n",
       "    }\n",
       "\n",
       "    .dataframe thead th {\n",
       "        text-align: right;\n",
       "    }\n",
       "</style>\n",
       "<table border=\"1\" class=\"dataframe\">\n",
       "  <thead>\n",
       "    <tr style=\"text-align: right;\">\n",
       "      <th></th>\n",
       "      <th>TrueFalse</th>\n",
       "      <th>Count</th>\n",
       "    </tr>\n",
       "  </thead>\n",
       "  <tbody>\n",
       "    <tr>\n",
       "      <th>0</th>\n",
       "      <td>False</td>\n",
       "      <td>1</td>\n",
       "    </tr>\n",
       "    <tr>\n",
       "      <th>1</th>\n",
       "      <td>True</td>\n",
       "      <td>2</td>\n",
       "    </tr>\n",
       "    <tr>\n",
       "      <th>2</th>\n",
       "      <td>True</td>\n",
       "      <td>3</td>\n",
       "    </tr>\n",
       "    <tr>\n",
       "      <th>3</th>\n",
       "      <td>True</td>\n",
       "      <td>4</td>\n",
       "    </tr>\n",
       "    <tr>\n",
       "      <th>4</th>\n",
       "      <td>False</td>\n",
       "      <td>5</td>\n",
       "    </tr>\n",
       "    <tr>\n",
       "      <th>...</th>\n",
       "      <td>...</td>\n",
       "      <td>...</td>\n",
       "    </tr>\n",
       "    <tr>\n",
       "      <th>995</th>\n",
       "      <td>True</td>\n",
       "      <td>996</td>\n",
       "    </tr>\n",
       "    <tr>\n",
       "      <th>996</th>\n",
       "      <td>True</td>\n",
       "      <td>997</td>\n",
       "    </tr>\n",
       "    <tr>\n",
       "      <th>997</th>\n",
       "      <td>False</td>\n",
       "      <td>998</td>\n",
       "    </tr>\n",
       "    <tr>\n",
       "      <th>998</th>\n",
       "      <td>False</td>\n",
       "      <td>999</td>\n",
       "    </tr>\n",
       "    <tr>\n",
       "      <th>999</th>\n",
       "      <td>True</td>\n",
       "      <td>1000</td>\n",
       "    </tr>\n",
       "  </tbody>\n",
       "</table>\n",
       "<p>1000 rows × 2 columns</p>\n",
       "</div>"
      ],
      "text/plain": [
       "     TrueFalse  Count\n",
       "0        False      1\n",
       "1         True      2\n",
       "2         True      3\n",
       "3         True      4\n",
       "4        False      5\n",
       "..         ...    ...\n",
       "995       True    996\n",
       "996       True    997\n",
       "997      False    998\n",
       "998      False    999\n",
       "999       True   1000\n",
       "\n",
       "[1000 rows x 2 columns]"
      ]
     },
     "execution_count": 111,
     "metadata": {},
     "output_type": "execute_result"
    }
   ],
   "source": [
    "# Which we want to generate number between 0 and 100-1 so game generate like [1,2,3,4,22,43,56,5,9,...]\n",
    "# [1,2,3,4,22,43,56,5,9,...] this list length will be max 100 element\n",
    "istenilen  = 100 \n",
    "\n",
    "simulation = 1000 # Which we want to how many times to try to find our guess (giris), simulation like ntimes in the previous example \n",
    "\n",
    "trueFalseList = [] # If our guess in the list then game gives True and simulation add True to this list. Same thing for False.\n",
    "\n",
    "giris=0 # Our guess is 0 but you can  write any number x (0<= x < istenilen)\n",
    "\n",
    "countList = [] # We will use this to make a table or graph like Coin Toss\n",
    "\n",
    "for i in range(0,simulation): # try 1000 times\n",
    "    numberlist = []  # generated numbers will be adding this list which is single.\n",
    "    \n",
    "    # This part almost same Coin Toss, there is a little diffrent\n",
    "    for a in range(istenilen): \n",
    "        number = random.randint(0,istenilen-1)\n",
    "        inornot = number in numberlist\n",
    "        if inornot == False:\n",
    "            numberlist.append(number)\n",
    "    countList.append(i+1)\n",
    "    inornot2 = giris in numberlist  # if 0 is in numberList then will be inornot2=True, True will be adding to trueFalseList.\n",
    "    if inornot2 == True:            # if 0 is not in numberList then will be inornot2=False, False will be adding to trueFalseList.\n",
    "        trueFalseList.append(inornot2)\n",
    "    else:\n",
    "        trueFalseList.append(inornot2)\n",
    "\n",
    "#adding 2 list combine to 1 list\n",
    "data = list(zip(trueFalseList,countList))\n",
    "#create a table from using data and columns names TrueFalse, Count\n",
    "df = pd.DataFrame(data, columns = [\"TrueFalse\",\"Count\"])\n",
    "df"
   ]
  },
  {
   "cell_type": "code",
   "execution_count": 112,
   "id": "0f07e3bb",
   "metadata": {},
   "outputs": [
    {
     "data": {
      "text/html": [
       "<div>\n",
       "<style scoped>\n",
       "    .dataframe tbody tr th:only-of-type {\n",
       "        vertical-align: middle;\n",
       "    }\n",
       "\n",
       "    .dataframe tbody tr th {\n",
       "        vertical-align: top;\n",
       "    }\n",
       "\n",
       "    .dataframe thead th {\n",
       "        text-align: right;\n",
       "    }\n",
       "</style>\n",
       "<table border=\"1\" class=\"dataframe\">\n",
       "  <thead>\n",
       "    <tr style=\"text-align: right;\">\n",
       "      <th></th>\n",
       "      <th>TrueFalse</th>\n",
       "      <th>Count</th>\n",
       "      <th>Probability</th>\n",
       "    </tr>\n",
       "  </thead>\n",
       "  <tbody>\n",
       "    <tr>\n",
       "      <th>0</th>\n",
       "      <td>False</td>\n",
       "      <td>1</td>\n",
       "      <td>0.000000</td>\n",
       "    </tr>\n",
       "    <tr>\n",
       "      <th>1</th>\n",
       "      <td>True</td>\n",
       "      <td>2</td>\n",
       "      <td>0.500000</td>\n",
       "    </tr>\n",
       "    <tr>\n",
       "      <th>2</th>\n",
       "      <td>True</td>\n",
       "      <td>3</td>\n",
       "      <td>0.666667</td>\n",
       "    </tr>\n",
       "    <tr>\n",
       "      <th>3</th>\n",
       "      <td>True</td>\n",
       "      <td>4</td>\n",
       "      <td>0.750000</td>\n",
       "    </tr>\n",
       "    <tr>\n",
       "      <th>4</th>\n",
       "      <td>False</td>\n",
       "      <td>5</td>\n",
       "      <td>0.600000</td>\n",
       "    </tr>\n",
       "    <tr>\n",
       "      <th>...</th>\n",
       "      <td>...</td>\n",
       "      <td>...</td>\n",
       "      <td>...</td>\n",
       "    </tr>\n",
       "    <tr>\n",
       "      <th>995</th>\n",
       "      <td>True</td>\n",
       "      <td>996</td>\n",
       "      <td>0.651606</td>\n",
       "    </tr>\n",
       "    <tr>\n",
       "      <th>996</th>\n",
       "      <td>True</td>\n",
       "      <td>997</td>\n",
       "      <td>0.651956</td>\n",
       "    </tr>\n",
       "    <tr>\n",
       "      <th>997</th>\n",
       "      <td>False</td>\n",
       "      <td>998</td>\n",
       "      <td>0.651303</td>\n",
       "    </tr>\n",
       "    <tr>\n",
       "      <th>998</th>\n",
       "      <td>False</td>\n",
       "      <td>999</td>\n",
       "      <td>0.650651</td>\n",
       "    </tr>\n",
       "    <tr>\n",
       "      <th>999</th>\n",
       "      <td>True</td>\n",
       "      <td>1000</td>\n",
       "      <td>0.651000</td>\n",
       "    </tr>\n",
       "  </tbody>\n",
       "</table>\n",
       "<p>1000 rows × 3 columns</p>\n",
       "</div>"
      ],
      "text/plain": [
       "     TrueFalse  Count  Probability\n",
       "0        False      1     0.000000\n",
       "1         True      2     0.500000\n",
       "2         True      3     0.666667\n",
       "3         True      4     0.750000\n",
       "4        False      5     0.600000\n",
       "..         ...    ...          ...\n",
       "995       True    996     0.651606\n",
       "996       True    997     0.651956\n",
       "997      False    998     0.651303\n",
       "998      False    999     0.650651\n",
       "999       True   1000     0.651000\n",
       "\n",
       "[1000 rows x 3 columns]"
      ]
     },
     "execution_count": 112,
     "metadata": {},
     "output_type": "execute_result"
    }
   ],
   "source": [
    "probabilityList = []\n",
    "count = 0\n",
    "for i in range(0,simulation):   \n",
    "    if df[\"TrueFalse\"][i] == True:\n",
    "        count = count + 1\n",
    "    probability= count/countList[i]\n",
    "    probabilityList.append(probability)\n",
    "\n",
    "#adding 3 list combine to 1 list\n",
    "data = list(zip(trueFalseList,countList,probabilityList))\n",
    "#create a table from using data and columns names TrueFalse, Count\n",
    "df = pd.DataFrame(data, columns = [\"TrueFalse\",\"Count\",\"Probability\"])\n",
    "df"
   ]
  },
  {
   "cell_type": "code",
   "execution_count": 113,
   "id": "ad588d1b",
   "metadata": {
    "scrolled": true
   },
   "outputs": [
    {
     "data": {
      "text/plain": [
       "<AxesSubplot:xlabel='Count', ylabel='Probability'>"
      ]
     },
     "execution_count": 113,
     "metadata": {},
     "output_type": "execute_result"
    },
    {
     "data": {
      "image/png": "[encoded data removed]",
      "text/plain": [
       "<Figure size 432x288 with 1 Axes>"
      ]
     },
     "metadata": {
      "needs_background": "light"
     },
     "output_type": "display_data"
    }
   ],
   "source": [
    "sbn.scatterplot(x=\"Count\",y=\"Probability\",data=df) #as we can see probability graph"
   ]
  },
  {
   "cell_type": "code",
   "execution_count": 114,
   "id": "4c7cd088",
   "metadata": {},
   "outputs": [
    {
     "data": {
      "text/plain": [
       "0.651"
      ]
     },
     "execution_count": 114,
     "metadata": {},
     "output_type": "execute_result"
    }
   ],
   "source": [
    "probabilityList[-1]  # and its almost 0.630 so %63 is our winning probability"
   ]
  },
  {
   "cell_type": "code",
   "execution_count": 115,
   "id": "7b67fb8b",
   "metadata": {},
   "outputs": [
    {
     "name": "stdout",
     "output_type": "stream",
     "text": [
      "Now you wining probability is 0.6339676587267705\n"
     ]
    }
   ],
   "source": [
    "probability = 1-((istenilen-1)**istenilen)/(istenilen**istenilen) #this is teoric answer so Real probability is this.\n",
    "print(f\"Now you wining probability is {probability}\")"
   ]
  },
  {
   "cell_type": "code",
   "execution_count": 116,
   "id": "8efe2b47",
   "metadata": {
    "scrolled": true
   },
   "outputs": [
    {
     "name": "stdout",
     "output_type": "stream",
     "text": [
      " if we increse simulation number this 0.651 will be close 0.6339676587267705 \n"
     ]
    }
   ],
   "source": [
    "print(f\" if we increse simulation number this {probabilityList[-1]} will be close {probability} \")"
   ]
  },
  {
   "cell_type": "markdown",
   "id": "da9574d7",
   "metadata": {},
   "source": [
    ">I am not crystal clear but I thing 0.6339676587267705 is real probability for istenilen = 100"
   ]
  },
  {
   "cell_type": "markdown",
   "id": "def04ea6",
   "metadata": {},
   "source": [
    "#  <font color='red'>For this part will be crazy.</font> "
   ]
  },
  {
   "cell_type": "markdown",
   "id": "137116dc",
   "metadata": {},
   "source": [
    "## Now we are simulate every istenilen from (5,6,7,8,9,...,203,204)"
   ]
  },
  {
   "cell_type": "markdown",
   "id": "9c23f590",
   "metadata": {},
   "source": [
    "### We will see every probability to win istenilen from (5,6,7,8,9,...,203,204)"
   ]
  },
  {
   "cell_type": "code",
   "execution_count": 130,
   "id": "0ad0af9a",
   "metadata": {},
   "outputs": [],
   "source": [
    "import random\n",
    "import numpy as np\n",
    "import pandas as pd\n",
    "import matplotlib.pyplot as plt\n",
    "import seaborn as sbn\n",
    "\n",
    "istenilen  = 5\n",
    "simulation = 1000\n",
    "giris=3\n",
    "free = []\n",
    "probabilityList = []\n",
    "free2 = []\n",
    "   \n",
    "for a in range(200): \n",
    "    trueFalseList = []\n",
    "    countList = []\n",
    "    count=0\n",
    "    for i in range(0,simulation):\n",
    "        numberlist = []\n",
    "        for a in range(0,istenilen):\n",
    "            number = random.randint(0,istenilen-1)\n",
    "            inornot = number in numberlist\n",
    "            if inornot == False:\n",
    "                numberlist.append(number) \n",
    "                \n",
    "        countList.append(i+1)\n",
    "        inornot2 = giris in numberlist\n",
    "        #print(inornot2)\n",
    "        if inornot2 == True:\n",
    "            trueFalseList.append(inornot2)\n",
    "        else:\n",
    "            trueFalseList.append(inornot2)\n",
    "                 \n",
    "    free2.append(istenilen)\n",
    "    istenilen = istenilen + 1\n",
    "    \n",
    "    data = list(zip(trueFalseList,countList))\n",
    "    df = pd.DataFrame(data, columns = [\"TrueFalse\",\"Count\"])\n",
    "    \n",
    "    for i in range(0,simulation):       \n",
    "        if df[\"TrueFalse\"][i] == True:\n",
    "            count = count + 1\n",
    "            #print(count)\n",
    "        probability= count/countList[i]\n",
    "        probabilityList.append(probability)\n",
    "\n",
    "    free.append(probabilityList[-1])"
   ]
  },
  {
   "cell_type": "code",
   "execution_count": 131,
   "id": "02e48069",
   "metadata": {},
   "outputs": [
    {
     "data": {
      "text/html": [
       "<div>\n",
       "<style scoped>\n",
       "    .dataframe tbody tr th:only-of-type {\n",
       "        vertical-align: middle;\n",
       "    }\n",
       "\n",
       "    .dataframe tbody tr th {\n",
       "        vertical-align: top;\n",
       "    }\n",
       "\n",
       "    .dataframe thead th {\n",
       "        text-align: right;\n",
       "    }\n",
       "</style>\n",
       "<table border=\"1\" class=\"dataframe\">\n",
       "  <thead>\n",
       "    <tr style=\"text-align: right;\">\n",
       "      <th></th>\n",
       "      <th>Probability</th>\n",
       "      <th>Count</th>\n",
       "    </tr>\n",
       "  </thead>\n",
       "  <tbody>\n",
       "    <tr>\n",
       "      <th>0</th>\n",
       "      <td>0.660</td>\n",
       "      <td>5</td>\n",
       "    </tr>\n",
       "    <tr>\n",
       "      <th>1</th>\n",
       "      <td>0.655</td>\n",
       "      <td>6</td>\n",
       "    </tr>\n",
       "    <tr>\n",
       "      <th>2</th>\n",
       "      <td>0.648</td>\n",
       "      <td>7</td>\n",
       "    </tr>\n",
       "    <tr>\n",
       "      <th>3</th>\n",
       "      <td>0.626</td>\n",
       "      <td>8</td>\n",
       "    </tr>\n",
       "    <tr>\n",
       "      <th>4</th>\n",
       "      <td>0.661</td>\n",
       "      <td>9</td>\n",
       "    </tr>\n",
       "    <tr>\n",
       "      <th>...</th>\n",
       "      <td>...</td>\n",
       "      <td>...</td>\n",
       "    </tr>\n",
       "    <tr>\n",
       "      <th>245</th>\n",
       "      <td>0.633</td>\n",
       "      <td>250</td>\n",
       "    </tr>\n",
       "    <tr>\n",
       "      <th>246</th>\n",
       "      <td>0.620</td>\n",
       "      <td>251</td>\n",
       "    </tr>\n",
       "    <tr>\n",
       "      <th>247</th>\n",
       "      <td>0.625</td>\n",
       "      <td>252</td>\n",
       "    </tr>\n",
       "    <tr>\n",
       "      <th>248</th>\n",
       "      <td>0.608</td>\n",
       "      <td>253</td>\n",
       "    </tr>\n",
       "    <tr>\n",
       "      <th>249</th>\n",
       "      <td>0.631</td>\n",
       "      <td>254</td>\n",
       "    </tr>\n",
       "  </tbody>\n",
       "</table>\n",
       "<p>250 rows × 2 columns</p>\n",
       "</div>"
      ],
      "text/plain": [
       "     Probability  Count\n",
       "0          0.660      5\n",
       "1          0.655      6\n",
       "2          0.648      7\n",
       "3          0.626      8\n",
       "4          0.661      9\n",
       "..           ...    ...\n",
       "245        0.633    250\n",
       "246        0.620    251\n",
       "247        0.625    252\n",
       "248        0.608    253\n",
       "249        0.631    254\n",
       "\n",
       "[250 rows x 2 columns]"
      ]
     },
     "execution_count": 131,
     "metadata": {},
     "output_type": "execute_result"
    }
   ],
   "source": [
    "data = list(zip(free,free2))\n",
    "df2 = pd.DataFrame(data, columns = [\"Probability\", \"Count\"])\n",
    "df2"
   ]
  },
  {
   "cell_type": "code",
   "execution_count": 132,
   "id": "0deb8cdb",
   "metadata": {},
   "outputs": [
    {
     "data": {
      "text/plain": [
       "200000"
      ]
     },
     "execution_count": 132,
     "metadata": {},
     "output_type": "execute_result"
    }
   ],
   "source": [
    "1000*200 #1000*200 times simulated so 200000 times"
   ]
  },
  {
   "cell_type": "code",
   "execution_count": 133,
   "id": "a4471cb4",
   "metadata": {
    "scrolled": true
   },
   "outputs": [
    {
     "data": {
      "text/plain": [
       "<AxesSubplot:xlabel='Count', ylabel='Probability'>"
      ]
     },
     "execution_count": 133,
     "metadata": {},
     "output_type": "execute_result"
    },
    {
     "data": {
      "image/png": "[encoded data removed]",
      "text/plain": [
       "<Figure size 432x288 with 1 Axes>"
      ]
     },
     "metadata": {
      "needs_background": "light"
     },
     "output_type": "display_data"
    }
   ],
   "source": [
    "sbn.barplot(x=\"Count\",y=\"Probability\",data=df2)"
   ]
  },
  {
   "cell_type": "code",
   "execution_count": 134,
   "id": "850459fe",
   "metadata": {},
   "outputs": [
    {
     "data": {
      "text/plain": [
       "<AxesSubplot:xlabel='Count', ylabel='Probability'>"
      ]
     },
     "execution_count": 134,
     "metadata": {},
     "output_type": "execute_result"
    },
    {
     "data": {
      "image/png": "[encoded data removed]",
      "text/plain": [
       "<Figure size 432x288 with 1 Axes>"
      ]
     },
     "metadata": {
      "needs_background": "light"
     },
     "output_type": "display_data"
    }
   ],
   "source": [
    "sbn.pointplot(x=\"Count\",y=\"Probability\",data=df2)"
   ]
  },
  {
   "cell_type": "code",
   "execution_count": 135,
   "id": "02632a74",
   "metadata": {},
   "outputs": [
    {
     "data": {
      "text/plain": [
       "<seaborn.axisgrid.FacetGrid at 0x285c45e3d30>"
      ]
     },
     "execution_count": 135,
     "metadata": {},
     "output_type": "execute_result"
    },
    {
     "data": {
      "image/png": "[encoded data removed]",
      "text/plain": [
       "<Figure size 360x360 with 1 Axes>"
      ]
     },
     "metadata": {
      "needs_background": "light"
     },
     "output_type": "display_data"
    }
   ],
   "source": [
    "sbn.lmplot(x=\"Count\",y=\"Probability\",data=df2) #As the number istenilen increases, probability to winning decreases."
   ]
  },
  {
   "cell_type": "code",
   "execution_count": null,
   "id": "1736b337",
   "metadata": {},
   "outputs": [],
   "source": []
  },
  {
   "cell_type": "code",
   "execution_count": null,
   "id": "f0f04474",
   "metadata": {},
   "outputs": [],
   "source": []
  },
  {
   "cell_type": "code",
   "execution_count": null,
   "id": "2052ea8f",
   "metadata": {},
   "outputs": [],
   "source": []
  },
  {
   "cell_type": "code",
   "execution_count": null,
   "id": "eb34e4cc",
   "metadata": {},
   "outputs": [],
   "source": []
  },
  {
   "cell_type": "code",
   "execution_count": null,
   "id": "3298e722",
   "metadata": {},
   "outputs": [],
   "source": [
    "d"
   ]
  }
 ],
 "metadata": {
  "kernelspec": {
   "display_name": "Python 3 (ipykernel)",
   "language": "python",
   "name": "python3"
  },
  "language_info": {
   "codemirror_mode": {
    "name": "ipython",
    "version": 3
   },
   "file_extension": ".py",
   "mimetype": "text/x-python",
   "name": "python",
   "nbconvert_exporter": "python",
   "pygments_lexer": "ipython3",
   "version": "3.9.7"
  }
 },
 "nbformat": 4,
 "nbformat_minor": 5
}
