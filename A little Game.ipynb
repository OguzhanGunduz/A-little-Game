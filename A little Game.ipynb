{
 "cells": [
  {
   "cell_type": "code",
   "execution_count": 1,
   "id": "4531509a",
   "metadata": {
    "scrolled": false
   },
   "outputs": [
    {
     "name": "stdout",
     "output_type": "stream",
     "text": [
      "Kaç sayılık bir küme istersiniz: 32\n",
      "Now you wining probability is 0.6379447107436834\n",
      "Hangi sayıyı bulmak istersiniz (Lütfen 32'den küçük bir sayı giriniz): 32\n",
      "Girdiğiniz sayı içeride DEĞİL\n",
      "[9, 15, 16, 8, 19, 7, 21, 26, 29, 20, 24, 6, 18, 23, 14, 13, 22, 27, 30, 31, 10]\n"
     ]
    }
   ],
   "source": [
    "def addFunction(istenilen,giris):\n",
    "    import random\n",
    "    numberlist = []\n",
    "    for i in range(0,istenilen):\n",
    "        number = random.randint(0,istenilen-1)\n",
    "\n",
    "        inornot = number in numberlist\n",
    "        if inornot == False:\n",
    "            numberlist.append(number)\n",
    "\n",
    "    inornot2 = giris in numberlist\n",
    "    if inornot2 == True:\n",
    "        print(\"Girdiğiniz sayı içeride\")\n",
    "    else:\n",
    "        print(\"Girdiğiniz sayı içeride DEĞİL\")\n",
    "    print(numberlist)\n",
    "\n",
    "def Input():\n",
    "    while True:\n",
    "        try:\n",
    "            istenilen = int(input(\"Kaç sayılık bir küme istersiniz: \"))\n",
    "        except:\n",
    "            print(\"Your input is false, try new input\")\n",
    "            continue\n",
    "        else:\n",
    "            break\n",
    "            \n",
    "    probability = 1-((istenilen-1)**istenilen)/(istenilen**istenilen)\n",
    "    print(f\"Now you wining probability is {probability}\")\n",
    "    \n",
    "    while True:      \n",
    "        try:\n",
    "            giris = int(input(f\"Hangi sayıyı bulmak istersiniz (Lütfen {istenilen}'den küçük bir sayı giriniz): \"))\n",
    "        except ValueError:\n",
    "            print(\"Your input is false, please try a number with integers.\")   \n",
    "        else:    \n",
    "            break\n",
    "    \n",
    "    addFunction(istenilen,giris)\n",
    "Input()"
   ]
  },
  {
   "cell_type": "code",
   "execution_count": null,
   "id": "99ca5ec3",
   "metadata": {},
   "outputs": [],
   "source": []
  },
  {
   "cell_type": "code",
   "execution_count": null,
   "id": "26df2043",
   "metadata": {},
   "outputs": [],
   "source": []
  },
  {
   "cell_type": "code",
   "execution_count": 15,
   "id": "0f07e3bb",
   "metadata": {},
   "outputs": [
    {
     "data": {
      "text/html": [
       "<div>\n",
       "<style scoped>\n",
       "    .dataframe tbody tr th:only-of-type {\n",
       "        vertical-align: middle;\n",
       "    }\n",
       "\n",
       "    .dataframe tbody tr th {\n",
       "        vertical-align: top;\n",
       "    }\n",
       "\n",
       "    .dataframe thead th {\n",
       "        text-align: right;\n",
       "    }\n",
       "</style>\n",
       "<table border=\"1\" class=\"dataframe\">\n",
       "  <thead>\n",
       "    <tr style=\"text-align: right;\">\n",
       "      <th></th>\n",
       "      <th>TrueFalse</th>\n",
       "      <th>Count</th>\n",
       "      <th>Probability</th>\n",
       "    </tr>\n",
       "  </thead>\n",
       "  <tbody>\n",
       "    <tr>\n",
       "      <th>0</th>\n",
       "      <td>False</td>\n",
       "      <td>1</td>\n",
       "      <td>0.000000</td>\n",
       "    </tr>\n",
       "    <tr>\n",
       "      <th>1</th>\n",
       "      <td>True</td>\n",
       "      <td>2</td>\n",
       "      <td>0.500000</td>\n",
       "    </tr>\n",
       "    <tr>\n",
       "      <th>2</th>\n",
       "      <td>False</td>\n",
       "      <td>3</td>\n",
       "      <td>0.333333</td>\n",
       "    </tr>\n",
       "    <tr>\n",
       "      <th>3</th>\n",
       "      <td>True</td>\n",
       "      <td>4</td>\n",
       "      <td>0.500000</td>\n",
       "    </tr>\n",
       "    <tr>\n",
       "      <th>4</th>\n",
       "      <td>False</td>\n",
       "      <td>5</td>\n",
       "      <td>0.400000</td>\n",
       "    </tr>\n",
       "    <tr>\n",
       "      <th>5</th>\n",
       "      <td>False</td>\n",
       "      <td>6</td>\n",
       "      <td>0.333333</td>\n",
       "    </tr>\n",
       "    <tr>\n",
       "      <th>6</th>\n",
       "      <td>False</td>\n",
       "      <td>7</td>\n",
       "      <td>0.285714</td>\n",
       "    </tr>\n",
       "    <tr>\n",
       "      <th>7</th>\n",
       "      <td>False</td>\n",
       "      <td>8</td>\n",
       "      <td>0.250000</td>\n",
       "    </tr>\n",
       "    <tr>\n",
       "      <th>8</th>\n",
       "      <td>True</td>\n",
       "      <td>9</td>\n",
       "      <td>0.333333</td>\n",
       "    </tr>\n",
       "    <tr>\n",
       "      <th>9</th>\n",
       "      <td>True</td>\n",
       "      <td>10</td>\n",
       "      <td>0.400000</td>\n",
       "    </tr>\n",
       "    <tr>\n",
       "      <th>10</th>\n",
       "      <td>True</td>\n",
       "      <td>11</td>\n",
       "      <td>0.454545</td>\n",
       "    </tr>\n",
       "    <tr>\n",
       "      <th>11</th>\n",
       "      <td>True</td>\n",
       "      <td>12</td>\n",
       "      <td>0.500000</td>\n",
       "    </tr>\n",
       "    <tr>\n",
       "      <th>12</th>\n",
       "      <td>False</td>\n",
       "      <td>13</td>\n",
       "      <td>0.461538</td>\n",
       "    </tr>\n",
       "    <tr>\n",
       "      <th>13</th>\n",
       "      <td>True</td>\n",
       "      <td>14</td>\n",
       "      <td>0.500000</td>\n",
       "    </tr>\n",
       "    <tr>\n",
       "      <th>14</th>\n",
       "      <td>True</td>\n",
       "      <td>15</td>\n",
       "      <td>0.533333</td>\n",
       "    </tr>\n",
       "    <tr>\n",
       "      <th>15</th>\n",
       "      <td>False</td>\n",
       "      <td>16</td>\n",
       "      <td>0.500000</td>\n",
       "    </tr>\n",
       "    <tr>\n",
       "      <th>16</th>\n",
       "      <td>False</td>\n",
       "      <td>17</td>\n",
       "      <td>0.470588</td>\n",
       "    </tr>\n",
       "    <tr>\n",
       "      <th>17</th>\n",
       "      <td>True</td>\n",
       "      <td>18</td>\n",
       "      <td>0.500000</td>\n",
       "    </tr>\n",
       "    <tr>\n",
       "      <th>18</th>\n",
       "      <td>True</td>\n",
       "      <td>19</td>\n",
       "      <td>0.526316</td>\n",
       "    </tr>\n",
       "    <tr>\n",
       "      <th>19</th>\n",
       "      <td>True</td>\n",
       "      <td>20</td>\n",
       "      <td>0.550000</td>\n",
       "    </tr>\n",
       "  </tbody>\n",
       "</table>\n",
       "</div>"
      ],
      "text/plain": [
       "    TrueFalse  Count  Probability\n",
       "0       False      1     0.000000\n",
       "1        True      2     0.500000\n",
       "2       False      3     0.333333\n",
       "3        True      4     0.500000\n",
       "4       False      5     0.400000\n",
       "5       False      6     0.333333\n",
       "6       False      7     0.285714\n",
       "7       False      8     0.250000\n",
       "8        True      9     0.333333\n",
       "9        True     10     0.400000\n",
       "10       True     11     0.454545\n",
       "11       True     12     0.500000\n",
       "12      False     13     0.461538\n",
       "13       True     14     0.500000\n",
       "14       True     15     0.533333\n",
       "15      False     16     0.500000\n",
       "16      False     17     0.470588\n",
       "17       True     18     0.500000\n",
       "18       True     19     0.526316\n",
       "19       True     20     0.550000"
      ]
     },
     "execution_count": 15,
     "metadata": {},
     "output_type": "execute_result"
    }
   ],
   "source": [
    "import random\n",
    "import numpy as np\n",
    "import pandas as pd\n",
    "import matplotlib.pyplot as plt\n",
    "import seaborn as sbn\n",
    "\n",
    "istenilen  = 100\n",
    "simulation = 1000\n",
    "trueFalseList = []\n",
    "giris=0\n",
    "countList = []\n",
    "for i in range(0,simulation):\n",
    "    numberlist = []\n",
    "    for a in range(istenilen):\n",
    "        number = random.randint(0,istenilen-1)\n",
    "        inornot = number in numberlist\n",
    "        if inornot == False:\n",
    "            numberlist.append(number)\n",
    "    countList.append(i+1)\n",
    "    inornot2 = giris in numberlist\n",
    "    if inornot2 == True:\n",
    "        trueFalseList.append(inornot2)\n",
    "    else:\n",
    "        trueFalseList.append(inornot2)\n",
    "\n",
    "\n",
    "data = list(zip(trueFalseList,countList))\n",
    "df = pd.DataFrame(data, columns = [\"TrueFalse\",\"Count\"])\n",
    "\n",
    "\n",
    "probabilityList = []\n",
    "count = 0\n",
    "for i in range(0,simulation):   \n",
    "    if df[\"TrueFalse\"][i] == True:\n",
    "        count = count + 1\n",
    "    probability= count/countList[i]\n",
    "    probabilityList.append(probability)\n",
    "\n",
    "\n",
    "data = list(zip(trueFalseList,countList,probabilityList))\n",
    "df = pd.DataFrame(data, columns = [\"TrueFalse\",\"Count\",\"Probability\"])\n",
    "df.head(20)"
   ]
  },
  {
   "cell_type": "code",
   "execution_count": 3,
   "id": "ad588d1b",
   "metadata": {
    "scrolled": true
   },
   "outputs": [
    {
     "data": {
      "text/plain": [
       "<AxesSubplot:xlabel='Count', ylabel='Probability'>"
      ]
     },
     "execution_count": 3,
     "metadata": {},
     "output_type": "execute_result"
    },
    {
     "data": {
      "image/png": "[encoded data removed]",
      "text/plain": [
       "<Figure size 432x288 with 1 Axes>"
      ]
     },
     "metadata": {
      "needs_background": "light"
     },
     "output_type": "display_data"
    }
   ],
   "source": [
    "sbn.scatterplot(x=\"Count\",y=\"Probability\",data=df)"
   ]
  },
  {
   "cell_type": "code",
   "execution_count": 4,
   "id": "4c7cd088",
   "metadata": {},
   "outputs": [
    {
     "data": {
      "text/plain": [
       "0.655"
      ]
     },
     "execution_count": 4,
     "metadata": {},
     "output_type": "execute_result"
    }
   ],
   "source": [
    "probabilityList[-1]"
   ]
  },
  {
   "cell_type": "code",
   "execution_count": null,
   "id": "7b67fb8b",
   "metadata": {},
   "outputs": [],
   "source": []
  },
  {
   "cell_type": "code",
   "execution_count": 10,
   "id": "0ad0af9a",
   "metadata": {},
   "outputs": [],
   "source": [
    "import random\n",
    "import numpy as np\n",
    "import pandas as pd\n",
    "import matplotlib.pyplot as plt\n",
    "import seaborn as sbn\n",
    "\n",
    "istenilen  = 5\n",
    "simulation = 100\n",
    "giris=3\n",
    "free = []\n",
    "probabilityList = []\n",
    "free2 = []\n",
    "   \n",
    "for a in range(200): \n",
    "    trueFalseList = []\n",
    "    countList = []\n",
    "    count=0\n",
    "    for i in range(0,simulation):\n",
    "        numberlist = []\n",
    "        for a in range(0,istenilen):\n",
    "            number = random.randint(0,istenilen-1)\n",
    "            inornot = number in numberlist\n",
    "            if inornot == False:\n",
    "                numberlist.append(number) \n",
    "                \n",
    "        countList.append(i+1)\n",
    "        inornot2 = giris in numberlist\n",
    "        #print(inornot2)\n",
    "        if inornot2 == True:\n",
    "            trueFalseList.append(inornot2)\n",
    "        else:\n",
    "            trueFalseList.append(inornot2)\n",
    "            \n",
    "        \n",
    "    free2.append(istenilen)\n",
    "    istenilen = istenilen + 1\n",
    "    \n",
    "    #istenilen = istenilen + 1\n",
    "    #print(countList)\n",
    "    \n",
    "    data = list(zip(trueFalseList,countList))\n",
    "    df = pd.DataFrame(data, columns = [\"TrueFalse\",\"Count\"])\n",
    "    #print(df)\n",
    "    \n",
    "    for i in range(0,simulation):       \n",
    "        if df[\"TrueFalse\"][i] == True:\n",
    "            count = count + 1\n",
    "            #print(count)\n",
    "        probability= count/countList[i]\n",
    "        probabilityList.append(probability)\n",
    "        #print(probability)\n",
    "    free.append(probabilityList[-1])\n",
    "\n",
    "#data = list(zip(trueFalseList,countList,probabilityList))\n",
    "#df = pd.DataFrame(data, columns = [\"TrueFalse\",\"Count\",\"Probability\"])\n",
    "#df.head()\n"
   ]
  },
  {
   "cell_type": "code",
   "execution_count": 11,
   "id": "02e48069",
   "metadata": {},
   "outputs": [
    {
     "data": {
      "text/html": [
       "<div>\n",
       "<style scoped>\n",
       "    .dataframe tbody tr th:only-of-type {\n",
       "        vertical-align: middle;\n",
       "    }\n",
       "\n",
       "    .dataframe tbody tr th {\n",
       "        vertical-align: top;\n",
       "    }\n",
       "\n",
       "    .dataframe thead th {\n",
       "        text-align: right;\n",
       "    }\n",
       "</style>\n",
       "<table border=\"1\" class=\"dataframe\">\n",
       "  <thead>\n",
       "    <tr style=\"text-align: right;\">\n",
       "      <th></th>\n",
       "      <th>Probability</th>\n",
       "      <th>Count</th>\n",
       "    </tr>\n",
       "  </thead>\n",
       "  <tbody>\n",
       "    <tr>\n",
       "      <th>0</th>\n",
       "      <td>0.63</td>\n",
       "      <td>5</td>\n",
       "    </tr>\n",
       "    <tr>\n",
       "      <th>1</th>\n",
       "      <td>0.64</td>\n",
       "      <td>6</td>\n",
       "    </tr>\n",
       "    <tr>\n",
       "      <th>2</th>\n",
       "      <td>0.56</td>\n",
       "      <td>7</td>\n",
       "    </tr>\n",
       "    <tr>\n",
       "      <th>3</th>\n",
       "      <td>0.67</td>\n",
       "      <td>8</td>\n",
       "    </tr>\n",
       "    <tr>\n",
       "      <th>4</th>\n",
       "      <td>0.59</td>\n",
       "      <td>9</td>\n",
       "    </tr>\n",
       "    <tr>\n",
       "      <th>...</th>\n",
       "      <td>...</td>\n",
       "      <td>...</td>\n",
       "    </tr>\n",
       "    <tr>\n",
       "      <th>195</th>\n",
       "      <td>0.62</td>\n",
       "      <td>200</td>\n",
       "    </tr>\n",
       "    <tr>\n",
       "      <th>196</th>\n",
       "      <td>0.62</td>\n",
       "      <td>201</td>\n",
       "    </tr>\n",
       "    <tr>\n",
       "      <th>197</th>\n",
       "      <td>0.63</td>\n",
       "      <td>202</td>\n",
       "    </tr>\n",
       "    <tr>\n",
       "      <th>198</th>\n",
       "      <td>0.64</td>\n",
       "      <td>203</td>\n",
       "    </tr>\n",
       "    <tr>\n",
       "      <th>199</th>\n",
       "      <td>0.65</td>\n",
       "      <td>204</td>\n",
       "    </tr>\n",
       "  </tbody>\n",
       "</table>\n",
       "<p>200 rows × 2 columns</p>\n",
       "</div>"
      ],
      "text/plain": [
       "     Probability  Count\n",
       "0           0.63      5\n",
       "1           0.64      6\n",
       "2           0.56      7\n",
       "3           0.67      8\n",
       "4           0.59      9\n",
       "..           ...    ...\n",
       "195         0.62    200\n",
       "196         0.62    201\n",
       "197         0.63    202\n",
       "198         0.64    203\n",
       "199         0.65    204\n",
       "\n",
       "[200 rows x 2 columns]"
      ]
     },
     "execution_count": 11,
     "metadata": {},
     "output_type": "execute_result"
    }
   ],
   "source": [
    "data = list(zip(free,free2))\n",
    "df2 = pd.DataFrame(data, columns = [\"Probability\", \"Count\"])\n",
    "df2"
   ]
  },
  {
   "cell_type": "code",
   "execution_count": 12,
   "id": "a4471cb4",
   "metadata": {},
   "outputs": [
    {
     "data": {
      "text/plain": [
       "<AxesSubplot:xlabel='Count', ylabel='Probability'>"
      ]
     },
     "execution_count": 12,
     "metadata": {},
     "output_type": "execute_result"
    },
    {
     "data": {
      "image/png": "[encoded data removed]",
      "text/plain": [
       "<Figure size 432x288 with 1 Axes>"
      ]
     },
     "metadata": {
      "needs_background": "light"
     },
     "output_type": "display_data"
    }
   ],
   "source": [
    "sbn.barplot(x=\"Count\",y=\"Probability\",data=df2)\n"
   ]
  },
  {
   "cell_type": "code",
   "execution_count": 13,
   "id": "850459fe",
   "metadata": {},
   "outputs": [
    {
     "data": {
      "text/plain": [
       "<AxesSubplot:xlabel='Count', ylabel='Probability'>"
      ]
     },
     "execution_count": 13,
     "metadata": {},
     "output_type": "execute_result"
    },
    {
     "data": {
      "image/png": "[encoded data removed]",
      "text/plain": [
       "<Figure size 432x288 with 1 Axes>"
      ]
     },
     "metadata": {
      "needs_background": "light"
     },
     "output_type": "display_data"
    }
   ],
   "source": [
    "sbn.pointplot(x=\"Count\",y=\"Probability\",data=df2)"
   ]
  },
  {
   "cell_type": "code",
   "execution_count": 14,
   "id": "02632a74",
   "metadata": {},
   "outputs": [
    {
     "data": {
      "text/plain": [
       "<seaborn.axisgrid.FacetGrid at 0x1e511e3b070>"
      ]
     },
     "execution_count": 14,
     "metadata": {},
     "output_type": "execute_result"
    },
    {
     "data": {
      "image/png": "[encoded data removed]",
      "text/plain": [
       "<Figure size 360x360 with 1 Axes>"
      ]
     },
     "metadata": {
      "needs_background": "light"
     },
     "output_type": "display_data"
    }
   ],
   "source": [
    "sbn.lmplot(x=\"Count\",y=\"Probability\",data=df2)"
   ]
  },
  {
   "cell_type": "code",
   "execution_count": null,
   "id": "1736b337",
   "metadata": {},
   "outputs": [],
   "source": []
  },
  {
   "cell_type": "code",
   "execution_count": null,
   "id": "f0f04474",
   "metadata": {},
   "outputs": [],
   "source": []
  },
  {
   "cell_type": "code",
   "execution_count": null,
   "id": "2052ea8f",
   "metadata": {},
   "outputs": [],
   "source": []
  },
  {
   "cell_type": "code",
   "execution_count": null,
   "id": "eb34e4cc",
   "metadata": {},
   "outputs": [],
   "source": []
  },
  {
   "cell_type": "code",
   "execution_count": null,
   "id": "3298e722",
   "metadata": {},
   "outputs": [],
   "source": [
    "d"
   ]
  }
 ],
 "metadata": {
  "kernelspec": {
   "display_name": "Python 3 (ipykernel)",
   "language": "python",
   "name": "python3"
  },
  "language_info": {
   "codemirror_mode": {
    "name": "ipython",
    "version": 3
   },
   "file_extension": ".py",
   "mimetype": "text/x-python",
   "name": "python",
   "nbconvert_exporter": "python",
   "pygments_lexer": "ipython3",
   "version": "3.9.7"
  }
 },
 "nbformat": 4,
 "nbformat_minor": 5
}
